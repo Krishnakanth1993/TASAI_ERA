{
 "cells": [
  {
   "cell_type": "code",
   "execution_count": null,
   "id": "23368f9c",
   "metadata": {
    "vscode": {
     "languageId": "plaintext"
    }
   },
   "outputs": [],
   "source": [
    "import gemini_service"
   ]
  }
 ],
 "metadata": {
  "language_info": {
   "name": "python"
  }
 },
 "nbformat": 4,
 "nbformat_minor": 5
}
